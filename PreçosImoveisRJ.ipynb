{
 "cells": [
  {
   "cell_type": "markdown",
   "metadata": {},
   "source": [
    "# Web scraping para compra de imóveis na empresa Julio Bogoricin"
   ]
  },
  {
   "cell_type": "code",
   "execution_count": null,
   "metadata": {},
   "outputs": [],
   "source": [
    "import pandas as pd\n",
    "import numpy as np\n",
    "import matplotlib.pyplot as plt\n",
    "import seaborn as sns\n",
    "from bs4 import BeautifulSoup\n",
    "import requests\n",
    "import bs4\n",
    "pd.set_option('display.max_rows',None)\n",
    "pd.set_option('display.max_colwidth', -1)\n",
    "pd.options.display.float_format = \"{:,.2f}\".format"
   ]
  },
  {
   "cell_type": "code",
   "execution_count": 164,
   "metadata": {},
   "outputs": [],
   "source": [
    "def tabela(h):\n",
    "    valor = []\n",
    "    quartos = []\n",
    "    area = []\n",
    "    bairro = []\n",
    "    vagas = []\n",
    "    suites = []\n",
    "    link = []\n",
    "    julio = 'https://www.juliobogoricin.com'\n",
    "    descricao = []\n",
    "    for i in h:\n",
    "        x = str(i.find_all('button'))\n",
    "        y = str(i.find_all('span'))\n",
    "        z = str(i.find_all('h2'))\n",
    "        k = str(i.find_all('a'))\n",
    "        q = str(i.find_all('p'))\n",
    "        valor.append(float(x.split('R$')[1].replace(u'\\xa0', '').split(',')[0].replace('.','')))\n",
    "        quartos.append(int(y.split('quarto')[0].split('>')[1].replace(' ','')))\n",
    "        area.append(float(y.split('</span>')[-2].split('>')[-1].replace(' m²','')))\n",
    "        bairro.append(z.split('\"title-bairro\">')[-1].split('</h2>')[0])\n",
    "        vagas.append(int(y.split('vaga(s)</span>')[-2].split('</span>')[-1].split('<span>')[-1].replace(' ','')))\n",
    "        suites.append(int(y.split('suíte(s)</span>')[0].split('</span>')[-1].split('<span>')[-1].replace(' ','')))\n",
    "        link.append(julio+k.split('>\\n<img')[0].split('href=')[-1][1:-1])\n",
    "        descricao.append(q.split('\"descr\">')[-1])\n",
    "    df = pd.DataFrame([valor,quartos,area,bairro,vagas,suites,link,descricao]).T\n",
    "    df.columns = ['Valor (R$)','Quartos','Área','Bairro','Vagas','Suites','Link','Descrição']\n",
    "    return df"
   ]
  },
  {
   "cell_type": "code",
   "execution_count": 176,
   "metadata": {},
   "outputs": [],
   "source": [
    "def web_control(url):\n",
    "    final = []\n",
    "    for i in range(1,188):\n",
    "        urlq = url + str(i)\n",
    "        page = requests.get(urlq)\n",
    "        soup = BeautifulSoup(page.content, 'html.parser')\n",
    "        h = soup.find_all('div', class_=\"imovel-busca-thumb\")\n",
    "        final.append(tabela(h))\n",
    "    dfinal = pd.concat(final)\n",
    "    dfinal.to_csv('PrecosJulioBogoricinRJ.csv')\n",
    "    return dfinal"
   ]
  },
  {
   "cell_type": "code",
   "execution_count": 177,
   "metadata": {},
   "outputs": [],
   "source": [
    "urlq = 'https://www.juliobogoricin.com/imoveis/busca/?tipo=residencial&entity=comprar&subcategoria=3&bairro=&codigo=&faixaPrecoDe=&faixaPrecoAte=&areaDe=&areaAte=&page='"
   ]
  },
  {
   "cell_type": "code",
   "execution_count": 179,
   "metadata": {},
   "outputs": [],
   "source": [
    "df = web_control(urlq)"
   ]
  },
  {
   "cell_type": "code",
   "execution_count": 327,
   "metadata": {},
   "outputs": [],
   "source": [
    "dff = df.copy()"
   ]
  },
  {
   "cell_type": "code",
   "execution_count": 328,
   "metadata": {},
   "outputs": [],
   "source": [
    "dff['Valor (R$)'] = pd.to_numeric(dff['Valor (R$)'])\n",
    "dff['Quartos'] = pd.to_numeric(dff['Quartos'])\n",
    "dff['Área'] = pd.to_numeric(dff['Área'])\n",
    "dff['Vagas'] = pd.to_numeric(dff['Vagas'])\n",
    "dff['Suites'] = pd.to_numeric(dff['Suites'])"
   ]
  },
  {
   "cell_type": "code",
   "execution_count": 329,
   "metadata": {},
   "outputs": [
    {
     "data": {
      "text/plain": [
       "Valor (R$)    float64\n",
       "Quartos       int64  \n",
       "Área          float64\n",
       "Bairro        object \n",
       "Vagas         int64  \n",
       "Suites        int64  \n",
       "Link          object \n",
       "Descrição     object \n",
       "dtype: object"
      ]
     },
     "execution_count": 329,
     "metadata": {},
     "output_type": "execute_result"
    }
   ],
   "source": [
    "dff.dtypes"
   ]
  },
  {
   "cell_type": "code",
   "execution_count": 330,
   "metadata": {},
   "outputs": [],
   "source": [
    "dff['Preço/m² (R$)'] = dff['Valor (R$)']/dff['Área']"
   ]
  },
  {
   "cell_type": "markdown",
   "metadata": {},
   "source": [
    "## Análise exploratória "
   ]
  },
  {
   "cell_type": "code",
   "execution_count": 332,
   "metadata": {},
   "outputs": [],
   "source": [
    "dff1 = dff[dff['Área']>0]"
   ]
  },
  {
   "cell_type": "code",
   "execution_count": 333,
   "metadata": {},
   "outputs": [
    {
     "data": {
      "text/html": [
       "<div>\n",
       "<style scoped>\n",
       "    .dataframe tbody tr th:only-of-type {\n",
       "        vertical-align: middle;\n",
       "    }\n",
       "\n",
       "    .dataframe tbody tr th {\n",
       "        vertical-align: top;\n",
       "    }\n",
       "\n",
       "    .dataframe thead th {\n",
       "        text-align: right;\n",
       "    }\n",
       "</style>\n",
       "<table border=\"1\" class=\"dataframe\">\n",
       "  <thead>\n",
       "    <tr style=\"text-align: right;\">\n",
       "      <th></th>\n",
       "      <th>Valor (R$)</th>\n",
       "      <th>Quartos</th>\n",
       "      <th>Área</th>\n",
       "      <th>Bairro</th>\n",
       "      <th>Vagas</th>\n",
       "      <th>Suites</th>\n",
       "      <th>Link</th>\n",
       "      <th>Descrição</th>\n",
       "      <th>Preço/m² (R$)</th>\n",
       "    </tr>\n",
       "  </thead>\n",
       "  <tbody>\n",
       "    <tr>\n",
       "      <td>0</td>\n",
       "      <td>1,850,000.00</td>\n",
       "      <td>3</td>\n",
       "      <td>106.00</td>\n",
       "      <td>Lagoa</td>\n",
       "      <td>1</td>\n",
       "      <td>2</td>\n",
       "      <td>https://www.juliobogoricin.com/imoveis/ipanema/lagoa-3quartos-reformado-2suites-dependencias-vaga-na-escritura-juliobogoricin/</td>\n",
       "      <td>Apartamento totalmente reformado e com extremo bom gosto, fundos, silêncioso, sol da manhã, composto de ampla sala e cozinha gourmet integradas, armários em todos os cômodos, três quartos sendo duas suítes, banheiro social, área de serviço e banheiro de empregada. Uma vaga na escritura, prédio com portaria 24h próximo a uma das maiores e melhores áreas de lazer da cidade com fácil deslocamento e transporte.Oportunidade!&lt;/p&gt;]</td>\n",
       "      <td>17,452.83</td>\n",
       "    </tr>\n",
       "    <tr>\n",
       "      <td>1</td>\n",
       "      <td>850,000.00</td>\n",
       "      <td>3</td>\n",
       "      <td>162.00</td>\n",
       "      <td>Glória</td>\n",
       "      <td>0</td>\n",
       "      <td>0</td>\n",
       "      <td>https://www.juliobogoricin.com/imoveis/ipanema/gloria-estilo-loft-nova-york-imovel-diferenciado-com-sala-03-quartos-cozinha-americana-juliobogoricin/</td>\n",
       "      <td>Situado no bairro da Gloria, junto a Imperial Igreja Nossa Senhora da Glória. Imóvel com estilo para clientes descolados. Andar térreo (2,5 m de altura do nível da rua) com mezanino, interior em paredes de tijolos aparentes, madeira e pedras. 1º piso: hall, ampla sala, cozinha americana, espaço adequado para escritório / home office ou estúdio, banheiro social.  quarto vista frontal p/ o mar e  parcial para o Aterro do Flamengo e Niterói. 2º piso: salão com 38m², lavabo, depósito, vista lateral para o Aterro do Flamengo e Niterói. Recém reformado.Aceita permuta na Zona Sul.&lt;/p&gt;]</td>\n",
       "      <td>5,246.91</td>\n",
       "    </tr>\n",
       "    <tr>\n",
       "      <td>2</td>\n",
       "      <td>650,000.00</td>\n",
       "      <td>3</td>\n",
       "      <td>88.00</td>\n",
       "      <td>Recreio dos Bandeirantes</td>\n",
       "      <td>2</td>\n",
       "      <td>1</td>\n",
       "      <td>https://www.juliobogoricin.com/imoveis/recreio/recreio-praia-varandao-gourmet-3-quartos-1-suite-88m2-2-vagas-venda/</td>\n",
       "      <td>Excelente apartamento 2ª quadra da praia varandão gourmet com churrasqueira e armários sala toda em porcelanato em 2 ambientes 3 quartos ( 1 suite ) com armários cozinha planejada wc de empregada prédio de alto luxo.\\r\\nRevisado 11/06/2020.&lt;/p&gt;]</td>\n",
       "      <td>7,386.36</td>\n",
       "    </tr>\n",
       "    <tr>\n",
       "      <td>3</td>\n",
       "      <td>525,000.00</td>\n",
       "      <td>3</td>\n",
       "      <td>82.00</td>\n",
       "      <td>Recreio dos Bandeirantes</td>\n",
       "      <td>2</td>\n",
       "      <td>1</td>\n",
       "      <td>https://www.juliobogoricin.com/imoveis/recreio/recreio-california-coast-3-quartos-1-suite-todo-montado-total-infra-estrutura-lazer-oportunidade/</td>\n",
       "      <td>Recreio California Coast excelente apartamento varanda sala em 2 ambientes 3 quartos ( 1 suite ) todo montado com armários cozinha planejada condomínio com total infra estrutura lazer segurança 24 horas OPORTUNIDADE!!!!!!\\r\\n Revisado 11/06/2020.&lt;/p&gt;]</td>\n",
       "      <td>6,402.44</td>\n",
       "    </tr>\n",
       "    <tr>\n",
       "      <td>4</td>\n",
       "      <td>450,000.00</td>\n",
       "      <td>2</td>\n",
       "      <td>87.00</td>\n",
       "      <td>Recreio dos Bandeirantes</td>\n",
       "      <td>1</td>\n",
       "      <td>1</td>\n",
       "      <td>https://www.juliobogoricin.com/imoveis/recreio/recreio-ivo-borges-2-quartos-1suite-87m2-1-vaga-venda-jbrb212262/</td>\n",
       "      <td>Ótimo Apartamento fundos, Gleba B, 2 andar, Próximo Comercio, 2 quartos c/ 3 revertido, 1 vaga de garagem. \\r\\nComposto por: Sacada, sala 2 ambientes,2 quartos com 3 revertido, sendo 1 suíte, cozinha com armários.\\r\\nO Recreio dos Bandeirantes é um dos melhores  bairros da Cidade Rio de Janeiro, para se viver e investir.\\r\\nUm bairro jovem com grande potencial de valorização dos imóveis em função da sua urbanização diferenciada, cujo o balizamento foi respeitar as reservas naturais e a  vegetação nativa. Com muitos parques,  praças e  8 km de praias de águas límpidas e transparentes. \\r\\nEncontramos no Recreio dos Bandeirantes uma grande  diversidade de serviços,  assim como um comércio variado e de qualidade. \\r\\nAlém de Shoppings Centers e galerias comerciais, cinemas, restaurantes famosos e  bares badalados, o bairro oferece inúmeras opções de lazer \\r\\nConta com excelentes colégios, cursos,  academias, creches ,  clinicas medicas, e ótimos hospitais.\\r\\nPodemos afirmar que o Recreio é um bairro completo.\\r\\nFacilidade de acesso para vários ponto da cidade, com  vias expressas, diversas linhas de ônibus além do BRT.\\r\\nEstuda financiamento da Caixa de Econômica Federal.\\r\\nRevisado 11/06/2020.&lt;/p&gt;]</td>\n",
       "      <td>5,172.41</td>\n",
       "    </tr>\n",
       "  </tbody>\n",
       "</table>\n",
       "</div>"
      ],
      "text/plain": [
       "    Valor (R$)  Quartos   Área                    Bairro  Vagas  Suites  \\\n",
       "0 1,850,000.00  3       106.00  Lagoa                     1      2        \n",
       "1 850,000.00    3       162.00  Glória                    0      0        \n",
       "2 650,000.00    3       88.00   Recreio dos Bandeirantes  2      1        \n",
       "3 525,000.00    3       82.00   Recreio dos Bandeirantes  2      1        \n",
       "4 450,000.00    2       87.00   Recreio dos Bandeirantes  1      1        \n",
       "\n",
       "                                                                                                                                                    Link  \\\n",
       "0  https://www.juliobogoricin.com/imoveis/ipanema/lagoa-3quartos-reformado-2suites-dependencias-vaga-na-escritura-juliobogoricin/                          \n",
       "1  https://www.juliobogoricin.com/imoveis/ipanema/gloria-estilo-loft-nova-york-imovel-diferenciado-com-sala-03-quartos-cozinha-americana-juliobogoricin/   \n",
       "2  https://www.juliobogoricin.com/imoveis/recreio/recreio-praia-varandao-gourmet-3-quartos-1-suite-88m2-2-vagas-venda/                                     \n",
       "3  https://www.juliobogoricin.com/imoveis/recreio/recreio-california-coast-3-quartos-1-suite-todo-montado-total-infra-estrutura-lazer-oportunidade/        \n",
       "4  https://www.juliobogoricin.com/imoveis/recreio/recreio-ivo-borges-2-quartos-1suite-87m2-1-vaga-venda-jbrb212262/                                        \n",
       "\n",
       "                                                                                                                                                                                                                                                                                                                                                                                                                                                                                                                                                                                                                                                                                                                                                                                                                                                                                                                                                                                                                                                                                                                                                                                                                                                              Descrição  \\\n",
       "0  Apartamento totalmente reformado e com extremo bom gosto, fundos, silêncioso, sol da manhã, composto de ampla sala e cozinha gourmet integradas, armários em todos os cômodos, três quartos sendo duas suítes, banheiro social, área de serviço e banheiro de empregada. Uma vaga na escritura, prédio com portaria 24h próximo a uma das maiores e melhores áreas de lazer da cidade com fácil deslocamento e transporte.Oportunidade!</p>]                                                                                                                                                                                                                                                                                                                                                                                                                                                                                                                                                                                                                                                                                                                                                                                                                           \n",
       "1  Situado no bairro da Gloria, junto a Imperial Igreja Nossa Senhora da Glória. Imóvel com estilo para clientes descolados. Andar térreo (2,5 m de altura do nível da rua) com mezanino, interior em paredes de tijolos aparentes, madeira e pedras. 1º piso: hall, ampla sala, cozinha americana, espaço adequado para escritório / home office ou estúdio, banheiro social.  quarto vista frontal p/ o mar e  parcial para o Aterro do Flamengo e Niterói. 2º piso: salão com 38m², lavabo, depósito, vista lateral para o Aterro do Flamengo e Niterói. Recém reformado.Aceita permuta na Zona Sul.</p>]                                                                                                                                                                                                                                                                                                                                                                                                                                                                                                                                                                                                                                                              \n",
       "2  Excelente apartamento 2ª quadra da praia varandão gourmet com churrasqueira e armários sala toda em porcelanato em 2 ambientes 3 quartos ( 1 suite ) com armários cozinha planejada wc de empregada prédio de alto luxo.\\r\\nRevisado 11/06/2020.</p>]                                                                                                                                                                                                                                                                                                                                                                                                                                                                                                                                                                                                                                                                                                                                                                                                                                                                                                                                                                                                                  \n",
       "3  Recreio California Coast excelente apartamento varanda sala em 2 ambientes 3 quartos ( 1 suite ) todo montado com armários cozinha planejada condomínio com total infra estrutura lazer segurança 24 horas OPORTUNIDADE!!!!!!\\r\\n Revisado 11/06/2020.</p>]                                                                                                                                                                                                                                                                                                                                                                                                                                                                                                                                                                                                                                                                                                                                                                                                                                                                                                                                                                                                            \n",
       "4  Ótimo Apartamento fundos, Gleba B, 2 andar, Próximo Comercio, 2 quartos c/ 3 revertido, 1 vaga de garagem. \\r\\nComposto por: Sacada, sala 2 ambientes,2 quartos com 3 revertido, sendo 1 suíte, cozinha com armários.\\r\\nO Recreio dos Bandeirantes é um dos melhores  bairros da Cidade Rio de Janeiro, para se viver e investir.\\r\\nUm bairro jovem com grande potencial de valorização dos imóveis em função da sua urbanização diferenciada, cujo o balizamento foi respeitar as reservas naturais e a  vegetação nativa. Com muitos parques,  praças e  8 km de praias de águas límpidas e transparentes. \\r\\nEncontramos no Recreio dos Bandeirantes uma grande  diversidade de serviços,  assim como um comércio variado e de qualidade. \\r\\nAlém de Shoppings Centers e galerias comerciais, cinemas, restaurantes famosos e  bares badalados, o bairro oferece inúmeras opções de lazer \\r\\nConta com excelentes colégios, cursos,  academias, creches ,  clinicas medicas, e ótimos hospitais.\\r\\nPodemos afirmar que o Recreio é um bairro completo.\\r\\nFacilidade de acesso para vários ponto da cidade, com  vias expressas, diversas linhas de ônibus além do BRT.\\r\\nEstuda financiamento da Caixa de Econômica Federal.\\r\\nRevisado 11/06/2020.</p>]   \n",
       "\n",
       "   Preço/m² (R$)  \n",
       "0 17,452.83       \n",
       "1 5,246.91        \n",
       "2 7,386.36        \n",
       "3 6,402.44        \n",
       "4 5,172.41        "
      ]
     },
     "execution_count": 333,
     "metadata": {},
     "output_type": "execute_result"
    }
   ],
   "source": [
    "dff1.head()"
   ]
  },
  {
   "cell_type": "markdown",
   "metadata": {},
   "source": [
    "### Médias de valores de imóvel por metro quadrado"
   ]
  },
  {
   "cell_type": "code",
   "execution_count": 247,
   "metadata": {},
   "outputs": [
    {
     "data": {
      "text/plain": [
       "Bairro\n",
       "Leblon                22,426.27\n",
       "Ipanema               20,568.82\n",
       "Lagoa                 17,025.47\n",
       "Gávea                 15,436.78\n",
       "Jardim Botânico       15,337.23\n",
       "Urca                  14,398.77\n",
       "Copacabana, Posto 6   13,463.27\n",
       "Name: Preço/m² (R$), dtype: float64"
      ]
     },
     "execution_count": 247,
     "metadata": {},
     "output_type": "execute_result"
    }
   ],
   "source": [
    "dff1.groupby('Bairro')['Preço/m² (R$)'].mean().nlargest(7)"
   ]
  },
  {
   "cell_type": "code",
   "execution_count": 335,
   "metadata": {},
   "outputs": [
    {
     "data": {
      "image/png": "[encoded data removed]",
      "text/plain": [
       "<Figure size 936x576 with 1 Axes>"
      ]
     },
     "metadata": {
      "needs_background": "light"
     },
     "output_type": "display_data"
    }
   ],
   "source": [
    "plt.figure(figsize=(13,8))\n",
    "x = dff1.groupby('Bairro')['Preço/m² (R$)'].mean().nlargest(7).index\n",
    "y = dff1.groupby('Bairro')['Preço/m² (R$)'].mean().nlargest(7)\n",
    "sns.barplot(x,y)\n",
    "plt.show()"
   ]
  },
  {
   "cell_type": "markdown",
   "metadata": {},
   "source": [
    "### Criando função para obter valores menores ou iguais em um bairro selecionado pelo usário"
   ]
  },
  {
   "cell_type": "code",
   "execution_count": 336,
   "metadata": {},
   "outputs": [],
   "source": [
    "def escolha(dff1,x,y):\n",
    "    return dff1[(dff1['Bairro'] == x) & (dff1['Valor (R$)']<=y)]"
   ]
  },
  {
   "cell_type": "markdown",
   "metadata": {},
   "source": [
    "### Escolhi Copacabana como referência e valor menor do que R$ 400000"
   ]
  },
  {
   "cell_type": "code",
   "execution_count": 337,
   "metadata": {},
   "outputs": [],
   "source": [
    "cop = escolha(dff1,'Copacabana',400000)"
   ]
  },
  {
   "cell_type": "markdown",
   "metadata": {},
   "source": [
    "### Verei o que possui menor valor por metro quadrado"
   ]
  },
  {
   "cell_type": "code",
   "execution_count": 338,
   "metadata": {},
   "outputs": [
    {
     "data": {
      "text/html": [
       "<div>\n",
       "<style scoped>\n",
       "    .dataframe tbody tr th:only-of-type {\n",
       "        vertical-align: middle;\n",
       "    }\n",
       "\n",
       "    .dataframe tbody tr th {\n",
       "        vertical-align: top;\n",
       "    }\n",
       "\n",
       "    .dataframe thead th {\n",
       "        text-align: right;\n",
       "    }\n",
       "</style>\n",
       "<table border=\"1\" class=\"dataframe\">\n",
       "  <thead>\n",
       "    <tr style=\"text-align: right;\">\n",
       "      <th></th>\n",
       "      <th>Valor (R$)</th>\n",
       "      <th>Quartos</th>\n",
       "      <th>Área</th>\n",
       "      <th>Bairro</th>\n",
       "      <th>Vagas</th>\n",
       "      <th>Suites</th>\n",
       "      <th>Link</th>\n",
       "      <th>Descrição</th>\n",
       "      <th>Preço/m² (R$)</th>\n",
       "    </tr>\n",
       "  </thead>\n",
       "  <tbody>\n",
       "    <tr>\n",
       "      <td>45</td>\n",
       "      <td>330,000.00</td>\n",
       "      <td>1</td>\n",
       "      <td>38.00</td>\n",
       "      <td>Copacabana</td>\n",
       "      <td>0</td>\n",
       "      <td>0</td>\n",
       "      <td>https://www.juliobogoricin.com/imoveis/copacabana/copacabana-rua-siqueira-campos-portaria-24-horas-jbc100335/</td>\n",
       "      <td>Copacabana - JBC100335\\r\\n\\r\\nDois em um, Rua Siqueira Campos - Copacabana, Posto 4, prédio misto, segunda quadra da praia, há pouquíssimos metros do Metrô, lugar onde você possui absolutamente tudo à mão. Prédio Misto, com possibilidades para vários ramos comerciais. Planta muito bem distribuída  Sala, banheiro, quarto, cozinha com armários planejados. Portaria 24 horas com câmeras de segurança. Não perca esta chance!\\r\\n\\r\\n- No IPTU são 38 m², na medição aponta 43 m².\\r\\n\\r\\n- Nosso horário de atendimento é de segunda a sexta-feira das 8h às 19h e sábado das 8 às 18h. Domingos e feriados das 8h às 16h.&lt;/p&gt;]</td>\n",
       "      <td>8,684.21</td>\n",
       "    </tr>\n",
       "  </tbody>\n",
       "</table>\n",
       "</div>"
      ],
      "text/plain": [
       "    Valor (R$)  Quartos  Área      Bairro  Vagas  Suites  \\\n",
       "45 330,000.00   1       38.00  Copacabana  0      0        \n",
       "\n",
       "                                                                                                             Link  \\\n",
       "45  https://www.juliobogoricin.com/imoveis/copacabana/copacabana-rua-siqueira-campos-portaria-24-horas-jbc100335/   \n",
       "\n",
       "                                                                                                                                                                                                                                                                                                                                                                                                                                                                                                                                                                                                                                    Descrição  \\\n",
       "45  Copacabana - JBC100335\\r\\n\\r\\nDois em um, Rua Siqueira Campos - Copacabana, Posto 4, prédio misto, segunda quadra da praia, há pouquíssimos metros do Metrô, lugar onde você possui absolutamente tudo à mão. Prédio Misto, com possibilidades para vários ramos comerciais. Planta muito bem distribuída  Sala, banheiro, quarto, cozinha com armários planejados. Portaria 24 horas com câmeras de segurança. Não perca esta chance!\\r\\n\\r\\n- No IPTU são 38 m², na medição aponta 43 m².\\r\\n\\r\\n- Nosso horário de atendimento é de segunda a sexta-feira das 8h às 19h e sábado das 8 às 18h. Domingos e feriados das 8h às 16h.</p>]   \n",
       "\n",
       "    Preço/m² (R$)  \n",
       "45 8,684.21        "
      ]
     },
     "execution_count": 338,
     "metadata": {},
     "output_type": "execute_result"
    }
   ],
   "source": [
    "cop[cop['Preço/m² (R$)'] == cop['Preço/m² (R$)'].min()]"
   ]
  },
  {
   "cell_type": "markdown",
   "metadata": {},
   "source": [
    "## Análise de grandes oportunidades (Será?)"
   ]
  },
  {
   "cell_type": "markdown",
   "metadata": {},
   "source": [
    "Estabeleci como uma grande oportunidade, num determinado bairro, os imóveis com preço por metro quadrado menores do que o valor da média menos dois desvios padrões. Não estão sendo considerados fatores muito importantes na determinação da oportunidade, como o estado físico do imóvel (precisa de reformas?), o estado jurídico (está em penhora ou inventário?) e a localização precisa (tem comércio perto, shoppings, metrô...). Esses fatores devem ser considerados"
   ]
  },
  {
   "cell_type": "code",
   "execution_count": 339,
   "metadata": {},
   "outputs": [],
   "source": [
    "def oportunidade(dff1,bairro,n=1,quartos=1,vagas=0,suites=0):\n",
    "    x = dff.groupby('Bairro')['Preço/m² (R$)'].mean()\n",
    "    y = dff.groupby('Bairro')['Preço/m² (R$)'].std()\n",
    "    xx = pd.DataFrame(x).reset_index()\n",
    "    yy = pd.DataFrame(y).reset_index()\n",
    "    f = xx[xx['Bairro']==bairro]['Preço/m² (R$)']\n",
    "    ff = yy[yy['Bairro']==bairro]['Preço/m² (R$)']\n",
    "    y = dff[(dff['Bairro']==bairro) & (dff['Quartos']==quartos) & (dff['Vagas']==vagas) & (dff['Suites']==suites) & (dff['Preço/m² (R$)']<f.values[0] - n*ff.values[0])]\n",
    "    return y"
   ]
  },
  {
   "cell_type": "markdown",
   "metadata": {},
   "source": [
    "Oportunidade em Botafogo, 1 quarto e 1 desvio-padrão abaixo da média"
   ]
  },
  {
   "cell_type": "code",
   "execution_count": 341,
   "metadata": {},
   "outputs": [
    {
     "data": {
      "text/html": [
       "<div>\n",
       "<style scoped>\n",
       "    .dataframe tbody tr th:only-of-type {\n",
       "        vertical-align: middle;\n",
       "    }\n",
       "\n",
       "    .dataframe tbody tr th {\n",
       "        vertical-align: top;\n",
       "    }\n",
       "\n",
       "    .dataframe thead th {\n",
       "        text-align: right;\n",
       "    }\n",
       "</style>\n",
       "<table border=\"1\" class=\"dataframe\">\n",
       "  <thead>\n",
       "    <tr style=\"text-align: right;\">\n",
       "      <th></th>\n",
       "      <th>Valor (R$)</th>\n",
       "      <th>Quartos</th>\n",
       "      <th>Área</th>\n",
       "      <th>Bairro</th>\n",
       "      <th>Vagas</th>\n",
       "      <th>Suites</th>\n",
       "      <th>Link</th>\n",
       "      <th>Descrição</th>\n",
       "      <th>Preço/m² (R$)</th>\n",
       "    </tr>\n",
       "  </thead>\n",
       "  <tbody>\n",
       "    <tr>\n",
       "      <td>16</td>\n",
       "      <td>380,000.00</td>\n",
       "      <td>1</td>\n",
       "      <td>58.00</td>\n",
       "      <td>Botafogo</td>\n",
       "      <td>0</td>\n",
       "      <td>0</td>\n",
       "      <td>https://www.juliobogoricin.com/imoveis/botafogo/praia-de-botafogo-apartamento-quarto-e-sala-tipo-casa-terreo-jbbot-12330/</td>\n",
       "      <td>Praia de Botafogo, próximo ao metro, shopping, comércio. Apartamento tipo casa, térreo, sala retangular, banheiro social espaçoso, 01 quarto, cozinha com bancada, área externa espaçosa. Prédio com entrada suntuosa e portaria 24h.. Doc ok. Desocupado, visite.&lt;/p&gt;]</td>\n",
       "      <td>6,551.72</td>\n",
       "    </tr>\n",
       "    <tr>\n",
       "      <td>46</td>\n",
       "      <td>440,000.00</td>\n",
       "      <td>1</td>\n",
       "      <td>51.00</td>\n",
       "      <td>Botafogo</td>\n",
       "      <td>0</td>\n",
       "      <td>0</td>\n",
       "      <td>https://www.juliobogoricin.com/imoveis/botafogo/botafogo-rua-assis-bueno-sol-manha-1-quarto-perto-de-escola-supermercado-zona-sul-restaurantes-vista-livre-area-externa-jbbot-12/</td>\n",
       "      <td>LOCALIZAÇÃO PRIVILEGIADA,,PERTO DE COMÉRCIO,ESCOLA,RESTAURANTES,ÓTIMO APTO QUARTO/SALA,VISTA LIVRE,SILENCIOSO,AREJADO,PISO FRIO,,COM SALA 2 AMBIENTES E VENTILADOR DE TETO ,QUARTO COM ARMÁRIO E VENTILADOR DE TETO,BANHEIRO SOCIAL COM PIA EM BANCADA DE GRANITO E ARMÁRIO,COZINHA  AMPLA COM ARMÁRIO,ÁREA DE SERVIÇO E TEM UMA ÁREA EXTERNA EXCLUSIVA DE 5 M. ,2 LANCES DE ESCADA.SEM ELEVADOR\\r\\n\\r\\nPRÉDIO COM CIRCUITO INTERNO DE CÂMERAS,SEM ELEVADOR,MUITO BEM CUIDADO,TEM ZELADOR.\\r\\n\\r\\nLoja Botafogo&lt;/p&gt;]</td>\n",
       "      <td>8,627.45</td>\n",
       "    </tr>\n",
       "  </tbody>\n",
       "</table>\n",
       "</div>"
      ],
      "text/plain": [
       "    Valor (R$)  Quartos  Área    Bairro  Vagas  Suites  \\\n",
       "16 380,000.00   1       58.00  Botafogo  0      0        \n",
       "46 440,000.00   1       51.00  Botafogo  0      0        \n",
       "\n",
       "                                                                                                                                                                                 Link  \\\n",
       "16  https://www.juliobogoricin.com/imoveis/botafogo/praia-de-botafogo-apartamento-quarto-e-sala-tipo-casa-terreo-jbbot-12330/                                                           \n",
       "46  https://www.juliobogoricin.com/imoveis/botafogo/botafogo-rua-assis-bueno-sol-manha-1-quarto-perto-de-escola-supermercado-zona-sul-restaurantes-vista-livre-area-externa-jbbot-12/   \n",
       "\n",
       "                                                                                                                                                                                                                                                                                                                                                                                                                                                                                                               Descrição  \\\n",
       "16  Praia de Botafogo, próximo ao metro, shopping, comércio. Apartamento tipo casa, térreo, sala retangular, banheiro social espaçoso, 01 quarto, cozinha com bancada, área externa espaçosa. Prédio com entrada suntuosa e portaria 24h.. Doc ok. Desocupado, visite.</p>]                                                                                                                                                                                                                                                \n",
       "46  LOCALIZAÇÃO PRIVILEGIADA,,PERTO DE COMÉRCIO,ESCOLA,RESTAURANTES,ÓTIMO APTO QUARTO/SALA,VISTA LIVRE,SILENCIOSO,AREJADO,PISO FRIO,,COM SALA 2 AMBIENTES E VENTILADOR DE TETO ,QUARTO COM ARMÁRIO E VENTILADOR DE TETO,BANHEIRO SOCIAL COM PIA EM BANCADA DE GRANITO E ARMÁRIO,COZINHA  AMPLA COM ARMÁRIO,ÁREA DE SERVIÇO E TEM UMA ÁREA EXTERNA EXCLUSIVA DE 5 M. ,2 LANCES DE ESCADA.SEM ELEVADOR\\r\\n\\r\\nPRÉDIO COM CIRCUITO INTERNO DE CÂMERAS,SEM ELEVADOR,MUITO BEM CUIDADO,TEM ZELADOR.\\r\\n\\r\\nLoja Botafogo</p>]   \n",
       "\n",
       "    Preço/m² (R$)  \n",
       "16 6,551.72        \n",
       "46 8,627.45        "
      ]
     },
     "execution_count": 341,
     "metadata": {},
     "output_type": "execute_result"
    }
   ],
   "source": [
    "oportunidade(dff1,'Botafogo',1)"
   ]
  },
  {
   "cell_type": "markdown",
   "metadata": {},
   "source": [
    "Oportunidade em Vila Isabel, com 2 quartos, 1 vaga na garagem e com valores por metro quadrado abaixo da média mais 1,5 desvios-padrão "
   ]
  },
  {
   "cell_type": "code",
   "execution_count": 342,
   "metadata": {},
   "outputs": [
    {
     "data": {
      "text/html": [
       "<div>\n",
       "<style scoped>\n",
       "    .dataframe tbody tr th:only-of-type {\n",
       "        vertical-align: middle;\n",
       "    }\n",
       "\n",
       "    .dataframe tbody tr th {\n",
       "        vertical-align: top;\n",
       "    }\n",
       "\n",
       "    .dataframe thead th {\n",
       "        text-align: right;\n",
       "    }\n",
       "</style>\n",
       "<table border=\"1\" class=\"dataframe\">\n",
       "  <thead>\n",
       "    <tr style=\"text-align: right;\">\n",
       "      <th></th>\n",
       "      <th>Valor (R$)</th>\n",
       "      <th>Quartos</th>\n",
       "      <th>Área</th>\n",
       "      <th>Bairro</th>\n",
       "      <th>Vagas</th>\n",
       "      <th>Suites</th>\n",
       "      <th>Link</th>\n",
       "      <th>Descrição</th>\n",
       "      <th>Preço/m² (R$)</th>\n",
       "    </tr>\n",
       "  </thead>\n",
       "  <tbody>\n",
       "    <tr>\n",
       "      <td>40</td>\n",
       "      <td>290,000.00</td>\n",
       "      <td>2</td>\n",
       "      <td>97.00</td>\n",
       "      <td>Vila Isabel</td>\n",
       "      <td>1</td>\n",
       "      <td>0</td>\n",
       "      <td>https://www.juliobogoricin.com/imoveis/afonso-pena/vila-isabel-2-quartos-1-vaga-no-condominio-jbap203520/</td>\n",
       "      <td>JBAP 203520\\r\\n\\r\\nRua Souza franco, próximo ao Polo Gastronômico de vila isabel , prédio antigo bem conservado, 1 por andar , prédio com 3 andares, condomínio barato, apartamento reformado, frente , sala em 2 ambientes ampla 2 quartos\\r\\ngrandes , banheiro social com box blindex, cozinha com armários, dependências completas. 1 vaga no condomínio. Entrar e morar!!!!\\r\\n\\r\\nJBAP 203520&lt;/p&gt;]</td>\n",
       "      <td>2,989.69</td>\n",
       "    </tr>\n",
       "    <tr>\n",
       "      <td>11</td>\n",
       "      <td>180,000.00</td>\n",
       "      <td>2</td>\n",
       "      <td>69.00</td>\n",
       "      <td>Vila Isabel</td>\n",
       "      <td>1</td>\n",
       "      <td>0</td>\n",
       "      <td>https://www.juliobogoricin.com/imoveis/saens-pena/vila-isabel-visconde-de-santa-isabel-2-quartos-1-vaga-proximo-inca-hospital-do-cancer-iv-jbt203775/</td>\n",
       "      <td>Excelente apartamento, claro e silencioso, totalmente indevassado, vista para Sumaré, sol da manhã. \\r\\n\\r\\nSala em 2 ambientes,  2 amplos quartos com armários embutidos, banheiro social, copa com ampla mesa e cadeiras, cozinha com armários, área de serviço, dependências de empregada.\\r\\n\\r\\n1 vaga escriturada e demarcada. \\r\\n\\r\\nPrédio com elevador e portaria 24 horas. \\r\\n\\r\\nPróximo ao róximo INCA - Hospital do Câncer IV, antigo Zoológico.&lt;/p&gt;]</td>\n",
       "      <td>2,608.70</td>\n",
       "    </tr>\n",
       "    <tr>\n",
       "      <td>14</td>\n",
       "      <td>220,000.00</td>\n",
       "      <td>2</td>\n",
       "      <td>84.00</td>\n",
       "      <td>Vila Isabel</td>\n",
       "      <td>1</td>\n",
       "      <td>0</td>\n",
       "      <td>https://www.juliobogoricin.com/imoveis/saens-pena/vila-isabel-conselheiro-otaviano-2-quartos-1-vaga-84m2-r-220-000-00-jbt203499/</td>\n",
       "      <td>Oportunidade! Excelente apartamento de 84m².\\r\\n\\r\\nComposto por\\r\\nsala para 2 ambientes,\\r\\n2 bons quartos com armários,\\r\\nbanheiro social com Box blindex,\\r\\ncozinha planejada,\\r\\nvaga de garagem escriturada.\\r\\n\\r\\nCondomínio Barato. \\r\\n\\r\\nPróximo a Rua Silva Pinto&lt;/p&gt;]</td>\n",
       "      <td>2,619.05</td>\n",
       "    </tr>\n",
       "  </tbody>\n",
       "</table>\n",
       "</div>"
      ],
      "text/plain": [
       "    Valor (R$)  Quartos  Área       Bairro  Vagas  Suites  \\\n",
       "40 290,000.00   2       97.00  Vila Isabel  1      0        \n",
       "11 180,000.00   2       69.00  Vila Isabel  1      0        \n",
       "14 220,000.00   2       84.00  Vila Isabel  1      0        \n",
       "\n",
       "                                                                                                                                                     Link  \\\n",
       "40  https://www.juliobogoricin.com/imoveis/afonso-pena/vila-isabel-2-quartos-1-vaga-no-condominio-jbap203520/                                               \n",
       "11  https://www.juliobogoricin.com/imoveis/saens-pena/vila-isabel-visconde-de-santa-isabel-2-quartos-1-vaga-proximo-inca-hospital-do-cancer-iv-jbt203775/   \n",
       "14  https://www.juliobogoricin.com/imoveis/saens-pena/vila-isabel-conselheiro-otaviano-2-quartos-1-vaga-84m2-r-220-000-00-jbt203499/                        \n",
       "\n",
       "                                                                                                                                                                                                                                                                                                                                                                                                                                                               Descrição  \\\n",
       "40  JBAP 203520\\r\\n\\r\\nRua Souza franco, próximo ao Polo Gastronômico de vila isabel , prédio antigo bem conservado, 1 por andar , prédio com 3 andares, condomínio barato, apartamento reformado, frente , sala em 2 ambientes ampla 2 quartos\\r\\ngrandes , banheiro social com box blindex, cozinha com armários, dependências completas. 1 vaga no condomínio. Entrar e morar!!!!\\r\\n\\r\\nJBAP 203520</p>]                                                               \n",
       "11  Excelente apartamento, claro e silencioso, totalmente indevassado, vista para Sumaré, sol da manhã. \\r\\n\\r\\nSala em 2 ambientes,  2 amplos quartos com armários embutidos, banheiro social, copa com ampla mesa e cadeiras, cozinha com armários, área de serviço, dependências de empregada.\\r\\n\\r\\n1 vaga escriturada e demarcada. \\r\\n\\r\\nPrédio com elevador e portaria 24 horas. \\r\\n\\r\\nPróximo ao róximo INCA - Hospital do Câncer IV, antigo Zoológico.</p>]   \n",
       "14  Oportunidade! Excelente apartamento de 84m².\\r\\n\\r\\nComposto por\\r\\nsala para 2 ambientes,\\r\\n2 bons quartos com armários,\\r\\nbanheiro social com Box blindex,\\r\\ncozinha planejada,\\r\\nvaga de garagem escriturada.\\r\\n\\r\\nCondomínio Barato. \\r\\n\\r\\nPróximo a Rua Silva Pinto</p>]                                                                                                                                                                                  \n",
       "\n",
       "    Preço/m² (R$)  \n",
       "40 2,989.69        \n",
       "11 2,608.70        \n",
       "14 2,619.05        "
      ]
     },
     "execution_count": 342,
     "metadata": {},
     "output_type": "execute_result"
    }
   ],
   "source": [
    "oportunidade(dff1,'Vila Isabel',1.5,2,1)"
   ]
  },
  {
   "cell_type": "markdown",
   "metadata": {},
   "source": [
    "### Brevemente farei uma análise de regressão para prever preços de imóveis no RJ"
   ]
  },
  {
   "cell_type": "code",
   "execution_count": null,
   "metadata": {},
   "outputs": [],
   "source": []
  }
 ],
 "metadata": {
  "kernelspec": {
   "display_name": "Python 3",
   "language": "python",
   "name": "python3"
  },
  "language_info": {
   "codemirror_mode": {
    "name": "ipython",
    "version": 3
   },
   "file_extension": ".py",
   "mimetype": "text/x-python",
   "name": "python",
   "nbconvert_exporter": "python",
   "pygments_lexer": "ipython3",
   "version": "3.7.4"
  }
 },
 "nbformat": 4,
 "nbformat_minor": 2
}
